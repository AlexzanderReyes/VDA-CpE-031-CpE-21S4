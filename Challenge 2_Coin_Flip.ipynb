{
  "nbformat": 4,
  "nbformat_minor": 0,
  "metadata": {
    "colab": {
      "provenance": [],
      "authorship_tag": "ABX9TyOtvErdpaajFYDMthxIdveF",
      "include_colab_link": true
    },
    "kernelspec": {
      "name": "python3",
      "display_name": "Python 3"
    },
    "language_info": {
      "name": "python"
    }
  },
  "cells": [
    {
      "cell_type": "markdown",
      "metadata": {
        "id": "view-in-github",
        "colab_type": "text"
      },
      "source": [
        "<a href=\"https://colab.research.google.com/github/AlexzanderReyes/VDA-CpE-031-CpE-21S4/blob/main/Challenge%202_Coin_Flip.ipynb\" target=\"_parent\"><img src=\"https://colab.research.google.com/assets/colab-badge.svg\" alt=\"Open In Colab\"/></a>"
      ]
    },
    {
      "cell_type": "markdown",
      "source": [
        "# Create a function coin flip () that simulates coin flips repeated 1 time with O representing tails and 1 representing heads. Make the function a generator with the parameter n as the number of coin flips."
      ],
      "metadata": {
        "id": "GfflhuuWDZV6"
      }
    },
    {
      "cell_type": "code",
      "source": [
        "import numpy as np\n",
        "\n",
        "def coin_flip(n):\n",
        "  return np.random.randint(2, size=n)\n",
        "\n",
        "n = int(input(\"Enter the number of flips: \"))\n",
        "result = coin_flip(n)\n",
        "print([var for var in result])"
      ],
      "metadata": {
        "colab": {
          "base_uri": "https://localhost:8080/"
        },
        "id": "s4t7xZDLDaeJ",
        "outputId": "9aee5489-3c45-4b18-e8a2-8ec6936808a6"
      },
      "execution_count": 2,
      "outputs": [
        {
          "output_type": "stream",
          "name": "stdout",
          "text": [
            "Enter the number of flips: 8\n",
            "[0, 0, 0, 1, 0, 0, 0, 0]\n"
          ]
        }
      ]
    }
  ]
}